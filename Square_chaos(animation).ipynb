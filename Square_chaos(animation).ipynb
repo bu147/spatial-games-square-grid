{
 "cells": [
  {
   "cell_type": "code",
   "execution_count": 1,
   "metadata": {},
   "outputs": [],
   "source": [
    "from Assemblies.game import GameField\n",
    "import numpy as np\n",
    "from numpy import random\n",
    "import time\n",
    "\n",
    "%matplotlib notebook\n",
    "import matplotlib.pyplot as plt\n",
    "#import bqplot.pyplot as plt\n",
    "\n",
    "from __future__ import print_function\n",
    "from ipywidgets import interact, interactive, fixed, interact_manual, Layout, VBox\n",
    "import ipywidgets as widgets"
   ]
  },
  {
   "cell_type": "code",
   "execution_count": 2,
   "metadata": {},
   "outputs": [],
   "source": [
    "def show_field(field, point_size=10, scale=10):\n",
    "    plt.clf()\n",
    "    fig = plt.figure(figsize = (scale*1, scale*1))\n",
    "    point_size = scale / (len(field)**2) * 10000\n",
    "    \n",
    "    \n",
    "    y, x = (1-field).nonzero()\n",
    "    plt.scatter(x, y, s=point_size, marker='o')\n",
    "    \n",
    "    y, x = field.nonzero()\n",
    "    plt.scatter(x, y, s=point_size, marker='o', c='r')\n",
    "    \n",
    "    off_field=np.array(np.equal(field,-1),dtype=int)\n",
    "    y,x=off_field.nonzero()\n",
    "    plt.scatter(x, y, s=point_size, marker='o', c='k')\n",
    "    plt.show()"
   ]
  },
  {
   "cell_type": "code",
   "execution_count": 3,
   "metadata": {},
   "outputs": [],
   "source": [
    "def get_field(b):\n",
    "    show_field(fields[b].field, scale=10)"
   ]
  },
  {
   "cell_type": "code",
   "execution_count": 4,
   "metadata": {},
   "outputs": [],
   "source": [
    "def on_step_btn(current):\n",
    "    for b in b_points:\n",
    "        GameField.evolveQ(fields[b])"
   ]
  },
  {
   "cell_type": "code",
   "execution_count": 5,
   "metadata": {},
   "outputs": [],
   "source": [
    "b_points = np.array([1, 9/8, 8/7, 7/6, 6/5, 5/4, 9/7, 4/3, 7/5, 3/2, 8/5, 5/3, 7/4, 9/5, 2, 9/4, 7/3, 5/2, 8/3]) + 0.01\n",
    "\n",
    "def init(size, percentage=70, off_percentage=10, seed=1):\n",
    "    global b_points \n",
    "    fields = {b : GameField(size, b) for b in b_points}\n",
    "    \n",
    "    rnd = np.random\n",
    "    rnd.seed(seed)\n",
    "    #if seed != -1: \n",
    "       # rnd.seed = seed\n",
    "    #else:\n",
    "        #rnd.seed = time.time()\n",
    "    \n",
    "    instance = np.array(rnd.rand(size, size) <= 0.01 * off_percentage, dtype=int) * (-1)\n",
    "    \n",
    "    active_indexes=(-1-instance).nonzero()\n",
    "    active_size=active_indexes[0].size\n",
    "    active = np.array(rnd.rand(active_size) > 0.01 * percentage, dtype=int)\n",
    "    \n",
    "    instance[active_indexes]=np.copy(active)\n",
    "    \n",
    "    for b in b_points:\n",
    "        fields[b].field = np.copy(instance)\n",
    "        \n",
    "    return fields"
   ]
  },
  {
   "cell_type": "code",
   "execution_count": 6,
   "metadata": {},
   "outputs": [],
   "source": [
    "size = 33\n",
    "\n",
    "fields = init(size)"
   ]
  },
  {
   "cell_type": "code",
   "execution_count": 7,
   "metadata": {},
   "outputs": [
    {
     "data": {
      "application/vnd.jupyter.widget-view+json": {
       "model_id": "25ecf4af52f34406af14c8e7678f1f2f",
       "version_major": 2,
       "version_minor": 0
      },
      "text/html": [
       "<p>Failed to display Jupyter Widget of type <code>HBox</code>.</p>\n",
       "<p>\n",
       "  If you're reading this message in the Jupyter Notebook or JupyterLab Notebook, it may mean\n",
       "  that the widgets JavaScript is still loading. If this message persists, it\n",
       "  likely means that the widgets JavaScript library is either not installed or\n",
       "  not enabled. See the <a href=\"https://ipywidgets.readthedocs.io/en/stable/user_install.html\">Jupyter\n",
       "  Widgets Documentation</a> for setup instructions.\n",
       "</p>\n",
       "<p>\n",
       "  If you're reading this message in another frontend (for example, a static\n",
       "  rendering on GitHub or <a href=\"https://nbviewer.jupyter.org/\">NBViewer</a>),\n",
       "  it may mean that your frontend doesn't currently support widgets.\n",
       "</p>\n"
      ],
      "text/plain": [
       "HBox(children=(BoundedIntText(value=3, description='Size:', max=1000, min=3, step=3), ToggleButton(value=False, description='Init'), Dropdown(description='b:', options=(1.01, 1.135, 1.1528571428571428, 1.1766666666666667, 1.21, 1.26, 1.2957142857142858, 1.3433333333333333, 1.41, 1.51, 1.61, 1.6766666666666667, 1.76, 1.81, 2.01, 2.26, 2.3433333333333333, 2.51, 2.6766666666666663), value=1.01), BoundedIntText(value=1, description='Count:', max=1000, min=1), ToggleButton(value=False, description='Step')))"
      ]
     },
     "metadata": {},
     "output_type": "display_data"
    },
    {
     "data": {
      "application/vnd.jupyter.widget-view+json": {
       "model_id": "88b21585eaf946df9b40fc8916ea30ec",
       "version_major": 2,
       "version_minor": 0
      },
      "text/html": [
       "<p>Failed to display Jupyter Widget of type <code>Output</code>.</p>\n",
       "<p>\n",
       "  If you're reading this message in the Jupyter Notebook or JupyterLab Notebook, it may mean\n",
       "  that the widgets JavaScript is still loading. If this message persists, it\n",
       "  likely means that the widgets JavaScript library is either not installed or\n",
       "  not enabled. See the <a href=\"https://ipywidgets.readthedocs.io/en/stable/user_install.html\">Jupyter\n",
       "  Widgets Documentation</a> for setup instructions.\n",
       "</p>\n",
       "<p>\n",
       "  If you're reading this message in another frontend (for example, a static\n",
       "  rendering on GitHub or <a href=\"https://nbviewer.jupyter.org/\">NBViewer</a>),\n",
       "  it may mean that your frontend doesn't currently support widgets.\n",
       "</p>\n"
      ],
      "text/plain": [
       "Output()"
      ]
     },
     "metadata": {},
     "output_type": "display_data"
    }
   ],
   "source": [
    "#Init\n",
    "size_int = widgets.BoundedIntText(\n",
    "    value=3,\n",
    "    min=3,\n",
    "    max=1000,\n",
    "    step=3,\n",
    "    description='Size:',\n",
    "    disabled=False\n",
    ")\n",
    "init_btn = widgets.ToggleButton(\n",
    "    value=False,\n",
    "    description='Init',\n",
    "    disabled=False,\n",
    "    button_style=''\n",
    ")\n",
    "def on_init_btn(current):\n",
    "    global fields\n",
    "    fields = init(size_int.value)\n",
    "    \n",
    "init_btn.observe(on_init_btn, names='value')\n",
    "    \n",
    "#Slider   \n",
    "b_sldr = widgets.Dropdown(options=b_points, description='b:', continuous_update=False)\n",
    "\n",
    "\n",
    "#Steps\n",
    "step_count_int = widgets.BoundedIntText(\n",
    "    value=1,\n",
    "    min=1,\n",
    "    max=1000,\n",
    "    step=1,\n",
    "    description='Count:',\n",
    "    disabled=False\n",
    ")\n",
    "\n",
    "step_btn = widgets.ToggleButton(\n",
    "    value=False,\n",
    "    description='Step',\n",
    "    disabled=False,\n",
    "    button_style=''\n",
    ")\n",
    "def on_step_btn(current):\n",
    "    current.value = False\n",
    "    global step_count_int\n",
    "    GameField.evolveQ(fields[b_sldr.value],num_steps=step_count_int.value)\n",
    "        \n",
    "step_btn.observe(on_step_btn, names='value')\n",
    "\n",
    "\n",
    "ui = widgets.HBox([size_int, init_btn, b_sldr, step_count_int, step_btn])\n",
    "\n",
    "\n",
    "def f(init, b, step):\n",
    "    get_field(b)\n",
    "\n",
    "out = widgets.interactive_output(f, {'init': init_btn, 'b': b_sldr, 'step' : step_btn})\n",
    "\n",
    "display(ui, out)"
   ]
  },
  {
   "cell_type": "code",
   "execution_count": null,
   "metadata": {},
   "outputs": [],
   "source": []
  }
 ],
 "metadata": {
  "kernelspec": {
   "display_name": "Python 3",
   "language": "python",
   "name": "python3"
  },
  "language_info": {
   "codemirror_mode": {
    "name": "ipython",
    "version": 3
   },
   "file_extension": ".py",
   "mimetype": "text/x-python",
   "name": "python",
   "nbconvert_exporter": "python",
   "pygments_lexer": "ipython3",
   "version": "3.6.4"
  }
 },
 "nbformat": 4,
 "nbformat_minor": 2
}
