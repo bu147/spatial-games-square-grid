{
 "cells": [
  {
   "cell_type": "code",
   "execution_count": 5,
   "metadata": {},
   "outputs": [],
   "source": [
    "from Assemblies.game import GameField\n",
    "import numpy as np\n",
    "import matplotlib.pyplot as plt\n",
    "import json\n",
    "\n",
    "%matplotlib inline"
   ]
  },
  {
   "cell_type": "code",
   "execution_count": 6,
   "metadata": {},
   "outputs": [],
   "source": [
    "eps = 0.01\n",
    "bs = 9/5+eps\n",
    "L = 200\n",
    "cp = 50\n",
    "\n",
    "offp = 19\n",
    "\n",
    "seeds = np.array([1, 25, 50, 75, 100])"
   ]
  },
  {
   "cell_type": "code",
   "execution_count": 7,
   "metadata": {},
   "outputs": [],
   "source": [
    "#плотность для конкретного b\n",
    "def c_density(size, coop_percentage, off_percentage, seed, burnin, evol, b): \n",
    "    np.random.seed(seed)\n",
    "    instance = np.array(np.random.rand(size, size) <= 0.01 * off_percentage, dtype=int) * (-1)\n",
    "    #здесь active означает места, занятые кооператорами или дефекторами\n",
    "    active_indexes=(-1-instance).nonzero()\n",
    "    active_size=active_indexes[0].size\n",
    "    active = np.array(np.random.rand(active_size) > 0.01 * coop_percentage, dtype=int)\n",
    "    instance[active_indexes]=np.copy(active)\n",
    "    density = np.zeros(evol)\n",
    "    \n",
    "    game = GameField(size, b)\n",
    "    game.field = np.copy(instance)\n",
    "    game.evolveQ(burnin)\n",
    "    for step in range(evol):\n",
    "        game.evolveQ(1)\n",
    "        density[step] = np.count_nonzero(np.equal(game.field,0)) / len(active)\n",
    "    return density"
   ]
  },
  {
   "cell_type": "code",
   "execution_count": 35,
   "metadata": {},
   "outputs": [],
   "source": [
    "burnin1= 3000\n",
    "evol1 = 500"
   ]
  },
  {
   "cell_type": "code",
   "execution_count": 36,
   "metadata": {},
   "outputs": [],
   "source": [
    "den = np.zeros((len(seeds), evol1))\n",
    "\n",
    "for i in range(len(seeds)):\n",
    "    den[i] = c_density(L, cp, offp, seeds[i], burnin1, evol1, bs)\n",
    "#--------------------------------------------------------------------    \n",
    "for i in range(len(seeds)):\n",
    "    line = list(den[i])\n",
    "    with open('seed' + str(i) + '.txt', 'w', encoding='utf8') as f:\n",
    "        json.dump(line, f)\n",
    "    f.close()"
   ]
  },
  {
   "cell_type": "code",
   "execution_count": 37,
   "metadata": {},
   "outputs": [],
   "source": [
    "copy = np.zeros((len(seeds), evol1))\n",
    "for i in range(len(seeds)):\n",
    "    with open('seed' + str(i) + '.txt', 'r', encoding='utf8') as f:\n",
    "        copy[i] = np.array(json.load(f))\n",
    "#--------------------------------------------------------------------\n",
    "avers = np.zeros(len(seeds))\n",
    "\n",
    "for i in range(len(seeds)):\n",
    "    avers[i] = np.mean(copy[i], axis=0)\n",
    "#--------------------------------------------------------------------\n",
    "n = evol1\n",
    "errs = np.zeros(len(seeds))\n",
    "\n",
    "for i in range(len(seeds)):\n",
    "    errs[i] = np.sqrt(sum((avers[i] - copy[i]) ** 2) / n) / np.sqrt(n)"
   ]
  },
  {
   "cell_type": "code",
   "execution_count": 38,
   "metadata": {},
   "outputs": [
    {
     "data": {
      "text/plain": [
       "<ErrorbarContainer object of 3 artists>"
      ]
     },
     "execution_count": 38,
     "metadata": {},
     "output_type": "execute_result"
    },
    {
     "data": {
      "image/png": "[encoded data removed]",
      "text/plain": [
       "<Figure size 720x360 with 1 Axes>"
      ]
     },
     "metadata": {
      "needs_background": "light"
     },
     "output_type": "display_data"
    }
   ],
   "source": [
    "fig, ax = plt.subplots(1,1,figsize=(10, 5))\n",
    "ax.grid(b=True,axis='y')\n",
    "\n",
    "ax.errorbar(seeds, avers, yerr=errs, fmt='o-', capsize=3)"
   ]
  },
  {
   "cell_type": "code",
   "execution_count": 39,
   "metadata": {},
   "outputs": [
    {
     "data": {
      "text/plain": [
       "array([5.18030211e-05, 6.97080711e-05, 4.53241682e-05, 4.13712271e-05,\n",
       "       8.05208206e-05])"
      ]
     },
     "execution_count": 39,
     "metadata": {},
     "output_type": "execute_result"
    }
   ],
   "source": [
    "errs"
   ]
  },
  {
   "cell_type": "code",
   "execution_count": null,
   "metadata": {},
   "outputs": [],
   "source": []
  }
 ],
 "metadata": {
  "kernelspec": {
   "display_name": "Python 3",
   "language": "python",
   "name": "python3"
  },
  "language_info": {
   "codemirror_mode": {
    "name": "ipython",
    "version": 3
   },
   "file_extension": ".py",
   "mimetype": "text/x-python",
   "name": "python",
   "nbconvert_exporter": "python",
   "pygments_lexer": "ipython3",
   "version": "3.7.4"
  }
 },
 "nbformat": 4,
 "nbformat_minor": 2
}
